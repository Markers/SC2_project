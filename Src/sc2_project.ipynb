{
 "cells": [
  {
   "cell_type": "code",
   "execution_count": 8,
   "metadata": {},
   "outputs": [
    {
     "name": "stdout",
     "output_type": "stream",
     "text": [
      "['../Data/서울특별시 공공자전거 시간대별 대여정보_201809.xlsx', '../Data/서울특별시 공공자전거 시간대별 대여정보_201805.xlsx', '../Data/서울특별시 공공자전거 시간대별 대여정보_201808.xlsx', '../Data/서울특별시 공공자전거 시간대별 대여정보_201811.xlsx', '../Data/서울특별시 공공자전거 시간대별 대여정보_201807.xlsx', '../Data/서울특별시 공공자전거 시간대별 대여정보_201801_02.xlsx', '../Data/서울특별시 공공자전거 시간대별 대여정보_201803_04.xlsx', '../Data/서울특별시 공공자전거 시간대별 대여정보_201806.xlsx', '../Data/서울특별시 공공자전거 시간대별 대여정보_201810.xlsx']\n"
     ]
    }
   ],
   "source": [
    "import pandas as pd\n",
    "import glob\n",
    "\n",
    "# get data file names\n",
    "path = '../Data/'\n",
    "filenames = glob.glob(path + \"*.xlsx\")\n",
    "\n",
    "print(filenames)\n",
    "\n",
    "dfs = []\n",
    "for filename in filenames:\n",
    "    dfs.append(pd.read_excel(filename))"
   ]
  },
  {
   "cell_type": "code",
   "execution_count": 9,
   "metadata": {},
   "outputs": [],
   "source": [
    "# Concatenate all data into one DataFrame\n",
    "big_frame = pd.concat(dfs, ignore_index=True)"
   ]
  },
  {
   "cell_type": "code",
   "execution_count": 11,
   "metadata": {},
   "outputs": [
    {
     "data": {
      "text/html": [
       "<div>\n",
       "<style scoped>\n",
       "    .dataframe tbody tr th:only-of-type {\n",
       "        vertical-align: middle;\n",
       "    }\n",
       "\n",
       "    .dataframe tbody tr th {\n",
       "        vertical-align: top;\n",
       "    }\n",
       "\n",
       "    .dataframe thead th {\n",
       "        text-align: right;\n",
       "    }\n",
       "</style>\n",
       "<table border=\"1\" class=\"dataframe\">\n",
       "  <thead>\n",
       "    <tr style=\"text-align: right;\">\n",
       "      <th></th>\n",
       "      <th>대여일자</th>\n",
       "      <th>대여시간</th>\n",
       "      <th>대여소번호</th>\n",
       "      <th>대여소명</th>\n",
       "      <th>대여구분코드</th>\n",
       "      <th>성별</th>\n",
       "      <th>연령대코드</th>\n",
       "      <th>이용건수</th>\n",
       "      <th>운동량</th>\n",
       "      <th>탄소량</th>\n",
       "      <th>이동거리</th>\n",
       "      <th>이동시간</th>\n",
       "    </tr>\n",
       "  </thead>\n",
       "  <tbody>\n",
       "    <tr>\n",
       "      <th>5986979</th>\n",
       "      <td>2018-10-31</td>\n",
       "      <td>23</td>\n",
       "      <td>2102</td>\n",
       "      <td>봉림교 교통섬</td>\n",
       "      <td>일일권</td>\n",
       "      <td>M</td>\n",
       "      <td>30대</td>\n",
       "      <td>1</td>\n",
       "      <td>55.54</td>\n",
       "      <td>0.43</td>\n",
       "      <td>1870</td>\n",
       "      <td>7</td>\n",
       "    </tr>\n",
       "    <tr>\n",
       "      <th>5986980</th>\n",
       "      <td>2018-10-31</td>\n",
       "      <td>23</td>\n",
       "      <td>1244</td>\n",
       "      <td>문정 법조단지8</td>\n",
       "      <td>일일권</td>\n",
       "      <td>M</td>\n",
       "      <td>30대</td>\n",
       "      <td>1</td>\n",
       "      <td>104.25</td>\n",
       "      <td>0.81</td>\n",
       "      <td>3510</td>\n",
       "      <td>16</td>\n",
       "    </tr>\n",
       "    <tr>\n",
       "      <th>5986981</th>\n",
       "      <td>2018-10-31</td>\n",
       "      <td>23</td>\n",
       "      <td>646</td>\n",
       "      <td>장한평역 1번출구 (국민은행앞)</td>\n",
       "      <td>일일권</td>\n",
       "      <td>M</td>\n",
       "      <td>40대</td>\n",
       "      <td>1</td>\n",
       "      <td>157.77</td>\n",
       "      <td>1.16</td>\n",
       "      <td>4980</td>\n",
       "      <td>25</td>\n",
       "    </tr>\n",
       "    <tr>\n",
       "      <th>5986982</th>\n",
       "      <td>2018-10-31</td>\n",
       "      <td>23</td>\n",
       "      <td>526</td>\n",
       "      <td>용답토속공원 앞</td>\n",
       "      <td>일일권</td>\n",
       "      <td>M</td>\n",
       "      <td>40대</td>\n",
       "      <td>1</td>\n",
       "      <td>75.42</td>\n",
       "      <td>0.68</td>\n",
       "      <td>2930</td>\n",
       "      <td>18</td>\n",
       "    </tr>\n",
       "    <tr>\n",
       "      <th>5986983</th>\n",
       "      <td>2018-10-31</td>\n",
       "      <td>23</td>\n",
       "      <td>248</td>\n",
       "      <td>초원아파트 앞</td>\n",
       "      <td>일일권</td>\n",
       "      <td>M</td>\n",
       "      <td>40대</td>\n",
       "      <td>1</td>\n",
       "      <td>59.58</td>\n",
       "      <td>0.41</td>\n",
       "      <td>1770</td>\n",
       "      <td>10</td>\n",
       "    </tr>\n",
       "  </tbody>\n",
       "</table>\n",
       "</div>"
      ],
      "text/plain": [
       "              대여일자  대여시간  대여소번호                대여소명 대여구분코드 성별 연령대코드  이용건수  \\\n",
       "5986979 2018-10-31    23   2102             봉림교 교통섬    일일권  M   30대     1   \n",
       "5986980 2018-10-31    23   1244            문정 법조단지8    일일권  M   30대     1   \n",
       "5986981 2018-10-31    23    646   장한평역 1번출구 (국민은행앞)    일일권  M   40대     1   \n",
       "5986982 2018-10-31    23    526            용답토속공원 앞    일일권  M   40대     1   \n",
       "5986983 2018-10-31    23    248             초원아파트 앞    일일권  M   40대     1   \n",
       "\n",
       "            운동량   탄소량  이동거리  이동시간  \n",
       "5986979   55.54  0.43  1870     7  \n",
       "5986980  104.25  0.81  3510    16  \n",
       "5986981  157.77  1.16  4980    25  \n",
       "5986982   75.42  0.68  2930    18  \n",
       "5986983   59.58  0.41  1770    10  "
      ]
     },
     "execution_count": 11,
     "metadata": {},
     "output_type": "execute_result"
    }
   ],
   "source": [
    "big_frame.tail(5)"
   ]
  },
  {
   "cell_type": "code",
   "execution_count": 12,
   "metadata": {},
   "outputs": [],
   "source": [
    "big_frame.to_csv(\"big_frame.csv\", mode='w')"
   ]
  }
 ],
 "metadata": {
  "interpreter": {
   "hash": "3f217e4c3c14a3cb17ac8f4295013ddbd0c68096b449053ee87440c1bb946ac8"
  },
  "kernelspec": {
   "display_name": "Python 3.8.3 64-bit ('3.8.3': pyenv)",
   "language": "python",
   "name": "python3"
  },
  "language_info": {
   "codemirror_mode": {
    "name": "ipython",
    "version": 3
   },
   "file_extension": ".py",
   "mimetype": "text/x-python",
   "name": "python",
   "nbconvert_exporter": "python",
   "pygments_lexer": "ipython3",
   "version": "3.8.3"
  },
  "orig_nbformat": 4
 },
 "nbformat": 4,
 "nbformat_minor": 2
}
